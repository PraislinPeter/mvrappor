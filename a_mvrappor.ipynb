{
 "cells": [
  {
   "cell_type": "code",
   "execution_count": 58,
   "id": "629983e2",
   "metadata": {},
   "outputs": [],
   "source": [
    "import numpy as np\n",
    "import pandas as pd\n",
    "import hashlib\n",
    "\n",
    "from sklearn.linear_model import Lasso\n",
    "from scipy.optimize import lsq_linear\n",
    "from sklearn.preprocessing import StandardScaler\n",
    "from sklearn.pipeline import make_pipeline"
   ]
  },
  {
   "cell_type": "code",
   "execution_count": 59,
   "id": "260650c3",
   "metadata": {},
   "outputs": [
    {
     "data": {
      "text/html": [
       "<div>\n",
       "<style scoped>\n",
       "    .dataframe tbody tr th:only-of-type {\n",
       "        vertical-align: middle;\n",
       "    }\n",
       "\n",
       "    .dataframe tbody tr th {\n",
       "        vertical-align: top;\n",
       "    }\n",
       "\n",
       "    .dataframe thead th {\n",
       "        text-align: right;\n",
       "    }\n",
       "</style>\n",
       "<table border=\"1\" class=\"dataframe\">\n",
       "  <thead>\n",
       "    <tr style=\"text-align: right;\">\n",
       "      <th></th>\n",
       "      <th>FILENAME</th>\n",
       "      <th>URL</th>\n",
       "      <th>URLLength</th>\n",
       "      <th>Domain</th>\n",
       "      <th>DomainLength</th>\n",
       "      <th>IsDomainIP</th>\n",
       "      <th>TLD</th>\n",
       "      <th>URLSimilarityIndex</th>\n",
       "      <th>CharContinuationRate</th>\n",
       "      <th>TLDLegitimateProb</th>\n",
       "      <th>...</th>\n",
       "      <th>Pay</th>\n",
       "      <th>Crypto</th>\n",
       "      <th>HasCopyrightInfo</th>\n",
       "      <th>NoOfImage</th>\n",
       "      <th>NoOfCSS</th>\n",
       "      <th>NoOfJS</th>\n",
       "      <th>NoOfSelfRef</th>\n",
       "      <th>NoOfEmptyRef</th>\n",
       "      <th>NoOfExternalRef</th>\n",
       "      <th>label</th>\n",
       "    </tr>\n",
       "  </thead>\n",
       "  <tbody>\n",
       "    <tr>\n",
       "      <th>0</th>\n",
       "      <td>521848.txt</td>\n",
       "      <td>https://www.southbankmosaics.com</td>\n",
       "      <td>31</td>\n",
       "      <td>www.southbankmosaics.com</td>\n",
       "      <td>24</td>\n",
       "      <td>0</td>\n",
       "      <td>com</td>\n",
       "      <td>100.0</td>\n",
       "      <td>1.000000</td>\n",
       "      <td>0.522907</td>\n",
       "      <td>...</td>\n",
       "      <td>0</td>\n",
       "      <td>0</td>\n",
       "      <td>1</td>\n",
       "      <td>34</td>\n",
       "      <td>20</td>\n",
       "      <td>28</td>\n",
       "      <td>119</td>\n",
       "      <td>0</td>\n",
       "      <td>124</td>\n",
       "      <td>1</td>\n",
       "    </tr>\n",
       "    <tr>\n",
       "      <th>1</th>\n",
       "      <td>31372.txt</td>\n",
       "      <td>https://www.uni-mainz.de</td>\n",
       "      <td>23</td>\n",
       "      <td>www.uni-mainz.de</td>\n",
       "      <td>16</td>\n",
       "      <td>0</td>\n",
       "      <td>de</td>\n",
       "      <td>100.0</td>\n",
       "      <td>0.666667</td>\n",
       "      <td>0.032650</td>\n",
       "      <td>...</td>\n",
       "      <td>0</td>\n",
       "      <td>0</td>\n",
       "      <td>1</td>\n",
       "      <td>50</td>\n",
       "      <td>9</td>\n",
       "      <td>8</td>\n",
       "      <td>39</td>\n",
       "      <td>0</td>\n",
       "      <td>217</td>\n",
       "      <td>1</td>\n",
       "    </tr>\n",
       "    <tr>\n",
       "      <th>2</th>\n",
       "      <td>597387.txt</td>\n",
       "      <td>https://www.voicefmradio.co.uk</td>\n",
       "      <td>29</td>\n",
       "      <td>www.voicefmradio.co.uk</td>\n",
       "      <td>22</td>\n",
       "      <td>0</td>\n",
       "      <td>uk</td>\n",
       "      <td>100.0</td>\n",
       "      <td>0.866667</td>\n",
       "      <td>0.028555</td>\n",
       "      <td>...</td>\n",
       "      <td>0</td>\n",
       "      <td>0</td>\n",
       "      <td>1</td>\n",
       "      <td>10</td>\n",
       "      <td>2</td>\n",
       "      <td>7</td>\n",
       "      <td>42</td>\n",
       "      <td>2</td>\n",
       "      <td>5</td>\n",
       "      <td>1</td>\n",
       "    </tr>\n",
       "    <tr>\n",
       "      <th>3</th>\n",
       "      <td>554095.txt</td>\n",
       "      <td>https://www.sfnmjournal.com</td>\n",
       "      <td>26</td>\n",
       "      <td>www.sfnmjournal.com</td>\n",
       "      <td>19</td>\n",
       "      <td>0</td>\n",
       "      <td>com</td>\n",
       "      <td>100.0</td>\n",
       "      <td>1.000000</td>\n",
       "      <td>0.522907</td>\n",
       "      <td>...</td>\n",
       "      <td>1</td>\n",
       "      <td>1</td>\n",
       "      <td>1</td>\n",
       "      <td>3</td>\n",
       "      <td>27</td>\n",
       "      <td>15</td>\n",
       "      <td>22</td>\n",
       "      <td>1</td>\n",
       "      <td>31</td>\n",
       "      <td>1</td>\n",
       "    </tr>\n",
       "    <tr>\n",
       "      <th>4</th>\n",
       "      <td>151578.txt</td>\n",
       "      <td>https://www.rewildingargentina.org</td>\n",
       "      <td>33</td>\n",
       "      <td>www.rewildingargentina.org</td>\n",
       "      <td>26</td>\n",
       "      <td>0</td>\n",
       "      <td>org</td>\n",
       "      <td>100.0</td>\n",
       "      <td>1.000000</td>\n",
       "      <td>0.079963</td>\n",
       "      <td>...</td>\n",
       "      <td>1</td>\n",
       "      <td>0</td>\n",
       "      <td>1</td>\n",
       "      <td>244</td>\n",
       "      <td>15</td>\n",
       "      <td>34</td>\n",
       "      <td>72</td>\n",
       "      <td>1</td>\n",
       "      <td>85</td>\n",
       "      <td>1</td>\n",
       "    </tr>\n",
       "  </tbody>\n",
       "</table>\n",
       "<p>5 rows × 56 columns</p>\n",
       "</div>"
      ],
      "text/plain": [
       "     FILENAME                                 URL  URLLength  \\\n",
       "0  521848.txt    https://www.southbankmosaics.com         31   \n",
       "1   31372.txt            https://www.uni-mainz.de         23   \n",
       "2  597387.txt      https://www.voicefmradio.co.uk         29   \n",
       "3  554095.txt         https://www.sfnmjournal.com         26   \n",
       "4  151578.txt  https://www.rewildingargentina.org         33   \n",
       "\n",
       "                       Domain  DomainLength  IsDomainIP  TLD  \\\n",
       "0    www.southbankmosaics.com            24           0  com   \n",
       "1            www.uni-mainz.de            16           0   de   \n",
       "2      www.voicefmradio.co.uk            22           0   uk   \n",
       "3         www.sfnmjournal.com            19           0  com   \n",
       "4  www.rewildingargentina.org            26           0  org   \n",
       "\n",
       "   URLSimilarityIndex  CharContinuationRate  TLDLegitimateProb  ...  Pay  \\\n",
       "0               100.0              1.000000           0.522907  ...    0   \n",
       "1               100.0              0.666667           0.032650  ...    0   \n",
       "2               100.0              0.866667           0.028555  ...    0   \n",
       "3               100.0              1.000000           0.522907  ...    1   \n",
       "4               100.0              1.000000           0.079963  ...    1   \n",
       "\n",
       "   Crypto  HasCopyrightInfo  NoOfImage  NoOfCSS  NoOfJS  NoOfSelfRef  \\\n",
       "0       0                 1         34       20      28          119   \n",
       "1       0                 1         50        9       8           39   \n",
       "2       0                 1         10        2       7           42   \n",
       "3       1                 1          3       27      15           22   \n",
       "4       0                 1        244       15      34           72   \n",
       "\n",
       "   NoOfEmptyRef  NoOfExternalRef  label  \n",
       "0             0              124      1  \n",
       "1             0              217      1  \n",
       "2             2                5      1  \n",
       "3             1               31      1  \n",
       "4             1               85      1  \n",
       "\n",
       "[5 rows x 56 columns]"
      ]
     },
     "execution_count": 59,
     "metadata": {},
     "output_type": "execute_result"
    }
   ],
   "source": [
    "urls = pd.read_csv('PhiUSIIL_Phishing_URL_Dataset.csv')\n",
    "urls.head()"
   ]
  },
  {
   "cell_type": "markdown",
   "id": "903ed8d6",
   "metadata": {},
   "source": [
    "## Bloom Setup "
   ]
  },
  {
   "cell_type": "code",
   "execution_count": 135,
   "id": "7d112983",
   "metadata": {},
   "outputs": [
    {
     "name": "stdout",
     "output_type": "stream",
     "text": [
      "Candidate Set Shape: (100, 1438)\n"
     ]
    }
   ],
   "source": [
    "NUM_BLOOMBITS = 1438\n",
    "NUM_HASHES = 10\n",
    "\n",
    "def hash_domain(url, num_bloombits, num_hashes):\n",
    "    bits = np.zeros(num_bloombits, dtype=bool)\n",
    "    \n",
    "    for i in range(num_hashes):\n",
    "        salted_input = f\"{i}:{url}\".encode()  # salt by prefixing i\n",
    "        hash_digest = hashlib.sha256(salted_input).hexdigest()\n",
    "        index = int(hash_digest, 16) % num_bloombits\n",
    "        bits[index] = True\n",
    "\n",
    "    return bits\n",
    "\n",
    "def create_candidate_set(urls, num_bloombits, num_hashes):\n",
    "    \"\"\"\n",
    "    Create a candidate set of URLs with their hashed indices.\n",
    "    \"\"\"\n",
    "    candidate_set = []\n",
    "    for url in urls:\n",
    "        bits = hash_domain(url, num_bloombits, num_hashes)\n",
    "        candidate_set.append(bits)\n",
    "    return np.array(candidate_set)\n",
    "\n",
    "# Get 100 URLS that have label set to 0\n",
    "urls_mal = urls[urls['label'] == 0].sample(100, random_state=42)\n",
    "urls_mal = np.array(urls_mal['URL'])\n",
    "\n",
    "candidate_set = create_candidate_set(urls_mal, NUM_BLOOMBITS, NUM_HASHES)\n",
    "print(\"Candidate Set Shape:\", candidate_set.shape)"
   ]
  },
  {
   "cell_type": "markdown",
   "id": "083e9862",
   "metadata": {},
   "source": [
    "## RAPPOR - View Creation"
   ]
  },
  {
   "cell_type": "code",
   "execution_count": 213,
   "id": "5afc54d3",
   "metadata": {},
   "outputs": [],
   "source": [
    "def prr_view(url, num_bloombits, num_hashes, f):\n",
    "    bits = hash_domain(url, num_bloombits, num_hashes)\n",
    "\n",
    "    # Randomly keep bits with probability f\n",
    "    rand_mask = np.random.rand(num_bloombits)\n",
    "    keep_mask = rand_mask < 1 - f\n",
    "    random_bits = np.random.rand(num_bloombits) < 0.5\n",
    "\n",
    "    prr = np.where(keep_mask, bits, random_bits)\n",
    "    return prr\n",
    "\n",
    "def irr_view(prr, p, q):\n",
    "    rand = np.random.rand(len(prr))\n",
    "\n",
    "    # If prr is True (1), keep with probability q; if False (0), set with probability p\n",
    "    irr = np.where(\n",
    "        prr,\n",
    "        rand < q,\n",
    "        rand < p\n",
    "    )\n",
    "\n",
    "    return irr"
   ]
  },
  {
   "cell_type": "code",
   "execution_count": 225,
   "id": "b8761b73",
   "metadata": {},
   "outputs": [],
   "source": [
    "prob_p = 0.5\n",
    "prob_q = 0.75\n",
    "prob_f = 0.5\n",
    "\n",
    "# Select 10 urls with label set to 1\n",
    "normal = urls[urls['label'] == 1].sample(10, random_state=42)\n",
    "normal = normal['URL'].tolist()\n",
    "\n",
    "# Select 1 url  from urls_mal\n",
    "random_index = np.random.choice(len(urls_mal), 1, replace=False)\n",
    "phishing = urls_mal[random_index].tolist()\n",
    "\n",
    "query_set = normal + phishing"
   ]
  },
  {
   "cell_type": "code",
   "execution_count": 226,
   "id": "6837f659",
   "metadata": {},
   "outputs": [
    {
     "data": {
      "text/plain": [
       "['https://www.atelierozmoz.be',\n",
       " 'https://www.diemon.com',\n",
       " 'https://www.wausauschools.org',\n",
       " 'https://www.paademode.com',\n",
       " 'https://www.boxturtles.com',\n",
       " 'https://www.mmstadium.com',\n",
       " 'https://www.brswimwear.com',\n",
       " 'https://www.leathercouncil.org',\n",
       " 'https://www.historync.org',\n",
       " 'https://www.toshin.com',\n",
       " 'https://leszek.arekhasnik.pl/add/email@example.com']"
      ]
     },
     "execution_count": 226,
     "metadata": {},
     "output_type": "execute_result"
    }
   ],
   "source": [
    "query_set"
   ]
  },
  {
   "cell_type": "code",
   "execution_count": 227,
   "id": "88f37616",
   "metadata": {},
   "outputs": [
    {
     "name": "stdout",
     "output_type": "stream",
     "text": [
      "PRR Views Shape: (11, 1438)\n"
     ]
    }
   ],
   "source": [
    "prr_views = []\n",
    "for url in query_set:\n",
    "    prr = prr_view(url, NUM_BLOOMBITS, NUM_HASHES, prob_f)\n",
    "    prr_views.append(prr)\n",
    "\n",
    "prr_views = np.array(prr_views)\n",
    "print(\"PRR Views Shape:\", prr_views.shape) "
   ]
  },
  {
   "cell_type": "code",
   "execution_count": 228,
   "id": "ba2a930a",
   "metadata": {},
   "outputs": [
    {
     "name": "stdout",
     "output_type": "stream",
     "text": [
      "(11000, 1438)\n"
     ]
    }
   ],
   "source": [
    "num_view = 1000\n",
    "\n",
    "irr_matrix = []\n",
    "for n in range(num_view):\n",
    "    for prr in prr_views:\n",
    "        irr = irr_view(prr, prob_p, prob_q)\n",
    "        irr_matrix.append(irr)\n",
    "\n",
    "irr_matrix = np.array(irr_matrix)\n",
    "print(irr_matrix.shape)"
   ]
  },
  {
   "cell_type": "markdown",
   "id": "d3d1d7c5",
   "metadata": {},
   "source": [
    "LASSO"
   ]
  },
  {
   "cell_type": "code",
   "execution_count": 229,
   "id": "7cf0d6f9",
   "metadata": {},
   "outputs": [
    {
     "name": "stdout",
     "output_type": "stream",
     "text": [
      "y shape: (1438,)\n",
      "Candidate set shape: (100, 1438)\n",
      "Used LASSO: 49 non-zero coefficients\n"
     ]
    }
   ],
   "source": [
    "y = irr_matrix.mean(axis=0)\n",
    "n_samples = candidate_set.shape[0]\n",
    "lambda_lasso = 0.01\n",
    "\n",
    "print(\"y shape:\", y.shape)\n",
    "print(\"Candidate set shape:\", candidate_set.shape)\n",
    "alpha = lambda_lasso / n_samples\n",
    "\n",
    "model = make_pipeline(\n",
    "    StandardScaler(),\n",
    "    Lasso(\n",
    "        alpha=alpha,\n",
    "        fit_intercept=True,\n",
    "        positive=False,\n",
    "        tol=1e-4,\n",
    "        max_iter=2000\n",
    "    )\n",
    ")\n",
    "\n",
    "try:\n",
    "    model.fit(candidate_set.T, y)\n",
    "    # Extract Lasso from pipeline to get coefficients\n",
    "    lasso_coef = model.named_steps['lasso'].coef_\n",
    "    reconstructed_freq = np.maximum(lasso_coef, 0)\n",
    "    nonzero = np.sum(reconstructed_freq > 0)\n",
    "    print(f\"Used LASSO: {nonzero} non-zero coefficients\")\n",
    "    if nonzero == 0:\n",
    "        raise Exception(\"Fallback to lsqnonneg\")\n",
    "except:\n",
    "    res = lsq_linear(candidate_set.T, y, bounds=(0, np.inf))\n",
    "    reconstructed_freq = res.x\n",
    "    print(f\"Used lsqnonneg: {np.sum(reconstructed_freq > 0)} non-zero coefficients\")\n"
   ]
  },
  {
   "cell_type": "code",
   "execution_count": 230,
   "id": "21c93757",
   "metadata": {},
   "outputs": [
    {
     "data": {
      "text/plain": [
       "array(['http://www.soeme.com',\n",
       "       'https://leszek.arekhasnik.pl/add/email@example.com',\n",
       "       'https://service-106870.weeblysite.com/',\n",
       "       'https://www-info-orico.kilnpay.com/',\n",
       "       'http://mail.pemulihan11297.3gp.work.gd/',\n",
       "       'http://www.moveonedegree.com',\n",
       "       'https://gateway.ipfs.io/ipfs/bafybeihbg3efsd2hiqwl3xba37vfj5vcd23zwy747mcz6nkc7piu3gecpq/dropmebox22_ofic4.html',\n",
       "       'https://optusnet-login.com/au/webmail/index.html',\n",
       "       'https://authsecuritecle.web.app/',\n",
       "       'https://login-cliente-rapido2023.com/luiza/home.php?userid=&uri=yc4kgyxpyiiys6i9h2e5vzj2n/mgjfs1d73alcee5ug=',\n",
       "       'http://nilstiers.com',\n",
       "       'https://accessible0-document-morroco-3jl58.ondigitalocean.app/',\n",
       "       'http://www.radiolevi.ro',\n",
       "       'https://ksheami.com/?article301=&_=/spip.php%232ul6dol2gmegls4woqvi8s0qdn05rgzpwjtdrzhh1pba',\n",
       "       'http://www.myanmarnewsrecent.com'], dtype=object)"
      ]
     },
     "execution_count": 230,
     "metadata": {},
     "output_type": "execute_result"
    }
   ],
   "source": [
    "threshold = 0.001\n",
    "detection = np.where(reconstructed_freq > threshold)\n",
    "\n",
    "urls_detected = urls_mal[detection]\n",
    "urls_detected"
   ]
  },
  {
   "cell_type": "markdown",
   "id": "97d42cf4",
   "metadata": {},
   "source": [
    "## Metric"
   ]
  },
  {
   "cell_type": "code",
   "execution_count": 231,
   "id": "8d09cd4c",
   "metadata": {},
   "outputs": [
    {
     "name": "stdout",
     "output_type": "stream",
     "text": [
      "Detected: 1, Not Detected: 0, Total: 1 (Accuracy: 1.00)\n",
      "Phishing URLs in candidate set: 15 out of 100\n"
     ]
    }
   ],
   "source": [
    "# Check if phishing URL is detected\n",
    "detected = 0\n",
    "not_detected = 0\n",
    "total_phishing = len(phishing)\n",
    "\n",
    "for url in phishing:\n",
    "\n",
    "    if url in urls_detected:\n",
    "        detected += 1\n",
    "    else:\n",
    "        not_detected += 1\n",
    "    \n",
    "print(f\"Detected: {detected}, Not Detected: {not_detected}, Total: {total_phishing} (Accuracy: {detected / total_phishing:.2f})\")\n",
    "\n",
    "# Check how many phishing urls are detected that are not in the candidate set\n",
    "in_candidate = 0\n",
    "for url in urls_mal:\n",
    "    if url in urls_detected:\n",
    "        in_candidate += 1\n",
    "\n",
    "print(f\"Phishing URLs in candidate set: {in_candidate} out of {len(urls_mal)}\")"
   ]
  }
 ],
 "metadata": {
  "kernelspec": {
   "display_name": "env_python",
   "language": "python",
   "name": "python3"
  },
  "language_info": {
   "codemirror_mode": {
    "name": "ipython",
    "version": 3
   },
   "file_extension": ".py",
   "mimetype": "text/x-python",
   "name": "python",
   "nbconvert_exporter": "python",
   "pygments_lexer": "ipython3",
   "version": "3.13.5"
  }
 },
 "nbformat": 4,
 "nbformat_minor": 5
}
